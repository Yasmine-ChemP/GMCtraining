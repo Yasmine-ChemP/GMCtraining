{
  "nbformat": 4,
  "nbformat_minor": 0,
  "metadata": {
    "colab": {
      "provenance": [],
      "authorship_tag": "ABX9TyOzi8bBqA+fMPkrTcy18YZP",
      "include_colab_link": true
    },
    "kernelspec": {
      "name": "python3",
      "display_name": "Python 3"
    },
    "language_info": {
      "name": "python"
    }
  },
  "cells": [
    {
      "cell_type": "markdown",
      "metadata": {
        "id": "view-in-github",
        "colab_type": "text"
      },
      "source": [
        "<a href=\"https://colab.research.google.com/github/Yasmine-ChemP/GMCtraining/blob/main/NLP2.ipynb\" target=\"_parent\"><img src=\"https://colab.research.google.com/assets/colab-badge.svg\" alt=\"Open In Colab\"/></a>"
      ]
    },
    {
      "cell_type": "code",
      "execution_count": null,
      "metadata": {
        "id": "ODS9ajx3CPJw"
      },
      "outputs": [],
      "source": [
        "#Phase 1 : get the dataset\n",
        "import tensorflow as tf\n",
        "from tensorflow import keras\n",
        "from tensorflow.keras import layers\n",
        "import tensorflow_datasets as tfds\n",
        "\n",
        "import numpy as np\n",
        "import matplotlib.pyplot as plt\n",
        "\n",
        "(train_ds,val_ds,test_ds),info = tfds.load('imdb_reviews',\n",
        "                       split=['train[:75%]','train[75%:100%]','test'],\n",
        "                       shuffle_files=True,\n",
        "                       with_info=True,\n",
        "                       as_supervised=True)\n"
      ]
    },
    {
      "cell_type": "code",
      "source": [
        "train_ds= train_ds.batch(32)\n",
        "val_ds = val_ds.batch(32)\n",
        "test_ds = test_ds.batch(32)"
      ],
      "metadata": {
        "id": "M1fufTcKDjLi"
      },
      "execution_count": null,
      "outputs": []
    },
    {
      "cell_type": "code",
      "source": [
        "from tensorflow.keras.preprocessing.sequence import pad_sequences"
      ],
      "metadata": {
        "id": "HVz3hNVyDyIY"
      },
      "execution_count": null,
      "outputs": []
    },
    {
      "cell_type": "code",
      "source": [
        "max_length=100\n",
        "training_samples=200\n",
        "validation_samples=1000\n",
        "max_words=20000\n",
        "embedding_dim=300\n",
        "\n",
        "# Let's make a text-only dataset (no labels):\n",
        "\n",
        "vectorize_layer = tf.keras.layers.TextVectorization(\n",
        " max_tokens=max_words,\n",
        " output_mode='int',\n",
        " output_sequence_length=max_length)"
      ],
      "metadata": {
        "id": "BQcp6XSzEAhU"
      },
      "execution_count": null,
      "outputs": []
    },
    {
      "cell_type": "code",
      "source": [
        "text_ds= train_ds.map(lambda x, y: x)"
      ],
      "metadata": {
        "id": "e3Kkc-otEwIQ"
      },
      "execution_count": null,
      "outputs": []
    },
    {
      "cell_type": "code",
      "source": [
        "vectorize_layer.adapt(text_ds) #equivalent de tokenizer.fit"
      ],
      "metadata": {
        "id": "K5Dpva9_E9v2"
      },
      "execution_count": null,
      "outputs": []
    },
    {
      "cell_type": "code",
      "source": [
        "vectorize_layer.get_config()"
      ],
      "metadata": {
        "colab": {
          "base_uri": "https://localhost:8080/"
        },
        "id": "VpEnywfHGMRG",
        "outputId": "873db06e-115c-429f-e49c-f85a86972cff"
      },
      "execution_count": null,
      "outputs": [
        {
          "output_type": "execute_result",
          "data": {
            "text/plain": [
              "{'batch_input_shape': (None,),\n",
              " 'dtype': 'string',\n",
              " 'idf_weights': None,\n",
              " 'max_tokens': 20000,\n",
              " 'name': 'text_vectorization',\n",
              " 'ngrams': None,\n",
              " 'output_mode': 'int',\n",
              " 'output_sequence_length': 100,\n",
              " 'pad_to_max_tokens': False,\n",
              " 'ragged': False,\n",
              " 'sparse': False,\n",
              " 'split': 'whitespace',\n",
              " 'standardize': 'lower_and_strip_punctuation',\n",
              " 'trainable': True,\n",
              " 'vocabulary': None}"
            ]
          },
          "metadata": {},
          "execution_count": 7
        }
      ]
    },
    {
      "cell_type": "code",
      "source": [
        "text_ds = train_ds.map(lambda x, y: x)\n",
        "vectorize_layer.adapt(text_ds) #Equivalent de tokenizer.fit\n",
        "def vectorize_text(text, label):\n",
        "    text = tf.expand_dims(text, -1)\n",
        "    return vectorize_layer(text), tf.reshape(label, (-1,1))\n",
        "\n",
        "# Vectorize the data.\n",
        "train = train_ds.map(vectorize_text)\n",
        "val = val_ds.map(vectorize_text)\n",
        "test = test_ds.map(vectorize_text)\n",
        "\n",
        "\n",
        "#Do async prefetching /buffering of the data for the best performances \n",
        "train = train.cache().prefetch(buffer_size=10)\n",
        "val= val.cache().prefetch(buffer_size=10)\n",
        "test=test.cache().prefetch(buffer_size=10)"
      ],
      "metadata": {
        "id": "54I14oRZHTiY"
      },
      "execution_count": null,
      "outputs": []
    },
    {
      "cell_type": "code",
      "source": [
        "for text, label in train.take(1):\n",
        "  print(text[0])"
      ],
      "metadata": {
        "colab": {
          "base_uri": "https://localhost:8080/"
        },
        "id": "Q-BTtrAdIOn2",
        "outputId": "c412f7ea-02cc-411e-df3b-30786ae1307f"
      },
      "execution_count": null,
      "outputs": [
        {
          "output_type": "stream",
          "name": "stdout",
          "text": [
            "tf.Tensor(\n",
            "[   11    14    34   411   367    18    90    27  9790     8    33  1297\n",
            "  4180    41   506 11462   193    25    86   152    19    11   215   316\n",
            "    27    64   241   217     8   482    56    64    86   113    96    22\n",
            "  5817    11    93   644   743    11    18     7    34   402 10038   168\n",
            "  2450   412     2    88  1207   137    68   144    52     2     1  7184\n",
            "    68   246    64  2845    16 18348  2805     1     1  1425  5138     3\n",
            "    40     1  1630    17  4180    14   155    19     4  1207   856  7965\n",
            "     8     4    18    12    14  3867     5    97   146  1219    10   231\n",
            "   684    12    48    25], shape=(100,), dtype=int64)\n"
          ]
        }
      ]
    },
    {
      "cell_type": "code",
      "source": [
        "import tensorflow\n",
        "#construction du modele\n",
        "from tensorflow.keras import layers\n",
        "\n",
        "inputs = tf.keras.Input(shape=(None,),dtype='int64')\n",
        "\n",
        "#ajouter la couche d'embedding\n",
        "x= layers.Embedding(20000,300)(inputs)\n",
        "#x=layers.Dropout(0.5)(x)\n",
        "#x=layers.Dense(128, activation='relu')(x)\n",
        "#x=layers.SimpleRNN(32, dropout=0.3, recurrent_dropout=0.2, retun_sequence=True)(x)\n",
        "#x=layers.SimpleRNN(32)\n",
        "#x=layers.LSTM(32)(x)\n",
        "x=layers.Bidirectional(layers.LSTM(32))(x)\n",
        "\n",
        "#other model\n",
        "#GRU\n",
        "x=layers.GRU\n",
        "output=layers.Dense(1,activation='sigmoid')(x)\n",
        "\n",
        "model= tensorflow.keras.Model(inputs=inputs, outputs=output)\n",
        "\n",
        "model.summary()"
      ],
      "metadata": {
        "colab": {
          "base_uri": "https://localhost:8080/"
        },
        "id": "i9oT8zqfIjqv",
        "outputId": "7944c1a0-6d77-4a6d-90dc-df7c4358e9b5"
      },
      "execution_count": null,
      "outputs": [
        {
          "output_type": "stream",
          "name": "stdout",
          "text": [
            "Model: \"model\"\n",
            "_________________________________________________________________\n",
            " Layer (type)                Output Shape              Param #   \n",
            "=================================================================\n",
            " input_1 (InputLayer)        [(None, None)]            0         \n",
            "                                                                 \n",
            " embedding (Embedding)       (None, None, 300)         6000000   \n",
            "                                                                 \n",
            " bidirectional (Bidirectiona  (None, 64)               85248     \n",
            " l)                                                              \n",
            "                                                                 \n",
            " dense (Dense)               (None, 1)                 65        \n",
            "                                                                 \n",
            "=================================================================\n",
            "Total params: 6,085,313\n",
            "Trainable params: 6,085,313\n",
            "Non-trainable params: 0\n",
            "_________________________________________________________________\n"
          ]
        }
      ]
    },
    {
      "cell_type": "code",
      "source": [
        "model.compile(loss='binary_crossentropy', optimizer='adam', metrics=['accuracy'])\n",
        "model.fit(train, epochs=1, validation_data=val )"
      ],
      "metadata": {
        "colab": {
          "base_uri": "https://localhost:8080/"
        },
        "id": "hYuNuIKHIix3",
        "outputId": "5c839771-5778-4ab4-a5ae-2591f5a02892"
      },
      "execution_count": null,
      "outputs": [
        {
          "output_type": "stream",
          "name": "stdout",
          "text": [
            "586/586 [==============================] - 121s 200ms/step - loss: 0.4624 - accuracy: 0.7778 - val_loss: 0.3771 - val_accuracy: 0.8323\n"
          ]
        },
        {
          "output_type": "execute_result",
          "data": {
            "text/plain": [
              "<keras.callbacks.History at 0x7f9e3ade56d0>"
            ]
          },
          "metadata": {},
          "execution_count": 11
        }
      ]
    },
    {
      "cell_type": "code",
      "source": [
        "model.evaluate(test)"
      ],
      "metadata": {
        "colab": {
          "base_uri": "https://localhost:8080/"
        },
        "id": "WklWXsoWTvNR",
        "outputId": "d468378f-f366-4699-e9cc-668585857428"
      },
      "execution_count": null,
      "outputs": [
        {
          "output_type": "stream",
          "name": "stdout",
          "text": [
            "782/782 [==============================] - 27s 34ms/step - loss: 0.4161 - accuracy: 0.8076\n"
          ]
        },
        {
          "output_type": "execute_result",
          "data": {
            "text/plain": [
              "[0.4160822927951813, 0.8075600266456604]"
            ]
          },
          "metadata": {},
          "execution_count": 12
        }
      ]
    }
  ]
}