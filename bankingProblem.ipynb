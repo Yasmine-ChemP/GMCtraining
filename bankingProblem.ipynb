{
  "cells": [
    {
      "cell_type": "markdown",
      "metadata": {
        "id": "view-in-github",
        "colab_type": "text"
      },
      "source": [
        "<a href=\"https://colab.research.google.com/github/Yasmine-ChemP/GMCtraining/blob/main/bankingProblem.ipynb\" target=\"_parent\"><img src=\"https://colab.research.google.com/assets/colab-badge.svg\" alt=\"Open In Colab\"/></a>"
      ]
    },
    {
      "cell_type": "code",
      "execution_count": null,
      "metadata": {
        "id": "AcBDQgv_HiCX"
      },
      "outputs": [],
      "source": [
        "import pandas as pd\n",
        "import numpy as np\n",
        "import matplotlib.pyplot as plt\n",
        "import seaborn as sns\n",
        "from sklearn import preprocessing\n",
        "import tensorflow as tf\n",
        "from tensorflow.keras import models, layers\n",
        "from keras.models import Sequential\n",
        "from keras.layers import Dense, Dropout"
      ]
    },
    {
      "cell_type": "code",
      "execution_count": null,
      "metadata": {
        "colab": {
          "base_uri": "https://localhost:8080/",
          "height": 206
        },
        "id": "VyXf-qFBILo9",
        "outputId": "cf4f25d1-9569-4611-c7bc-c4cb489de1ba"
      },
      "outputs": [
        {
          "output_type": "execute_result",
          "data": {
            "text/plain": [
              "   age         job  marital  education default  balance housing loan  contact  \\\n",
              "0   59      admin.  married  secondary      no     2343     yes   no  unknown   \n",
              "1   56      admin.  married  secondary      no       45      no   no  unknown   \n",
              "2   41  technician  married  secondary      no     1270     yes   no  unknown   \n",
              "3   55    services  married  secondary      no     2476     yes   no  unknown   \n",
              "4   54      admin.  married   tertiary      no      184      no   no  unknown   \n",
              "\n",
              "   day month  duration  campaign  pdays  previous poutcome deposit  \n",
              "0    5   may      1042         1     -1         0  unknown     yes  \n",
              "1    5   may      1467         1     -1         0  unknown     yes  \n",
              "2    5   may      1389         1     -1         0  unknown     yes  \n",
              "3    5   may       579         1     -1         0  unknown     yes  \n",
              "4    5   may       673         2     -1         0  unknown     yes  "
            ],
            "text/html": [
              "\n",
              "  <div id=\"df-d554f1e7-d967-45bb-845e-d1bf6c946c50\">\n",
              "    <div class=\"colab-df-container\">\n",
              "      <div>\n",
              "<style scoped>\n",
              "    .dataframe tbody tr th:only-of-type {\n",
              "        vertical-align: middle;\n",
              "    }\n",
              "\n",
              "    .dataframe tbody tr th {\n",
              "        vertical-align: top;\n",
              "    }\n",
              "\n",
              "    .dataframe thead th {\n",
              "        text-align: right;\n",
              "    }\n",
              "</style>\n",
              "<table border=\"1\" class=\"dataframe\">\n",
              "  <thead>\n",
              "    <tr style=\"text-align: right;\">\n",
              "      <th></th>\n",
              "      <th>age</th>\n",
              "      <th>job</th>\n",
              "      <th>marital</th>\n",
              "      <th>education</th>\n",
              "      <th>default</th>\n",
              "      <th>balance</th>\n",
              "      <th>housing</th>\n",
              "      <th>loan</th>\n",
              "      <th>contact</th>\n",
              "      <th>day</th>\n",
              "      <th>month</th>\n",
              "      <th>duration</th>\n",
              "      <th>campaign</th>\n",
              "      <th>pdays</th>\n",
              "      <th>previous</th>\n",
              "      <th>poutcome</th>\n",
              "      <th>deposit</th>\n",
              "    </tr>\n",
              "  </thead>\n",
              "  <tbody>\n",
              "    <tr>\n",
              "      <th>0</th>\n",
              "      <td>59</td>\n",
              "      <td>admin.</td>\n",
              "      <td>married</td>\n",
              "      <td>secondary</td>\n",
              "      <td>no</td>\n",
              "      <td>2343</td>\n",
              "      <td>yes</td>\n",
              "      <td>no</td>\n",
              "      <td>unknown</td>\n",
              "      <td>5</td>\n",
              "      <td>may</td>\n",
              "      <td>1042</td>\n",
              "      <td>1</td>\n",
              "      <td>-1</td>\n",
              "      <td>0</td>\n",
              "      <td>unknown</td>\n",
              "      <td>yes</td>\n",
              "    </tr>\n",
              "    <tr>\n",
              "      <th>1</th>\n",
              "      <td>56</td>\n",
              "      <td>admin.</td>\n",
              "      <td>married</td>\n",
              "      <td>secondary</td>\n",
              "      <td>no</td>\n",
              "      <td>45</td>\n",
              "      <td>no</td>\n",
              "      <td>no</td>\n",
              "      <td>unknown</td>\n",
              "      <td>5</td>\n",
              "      <td>may</td>\n",
              "      <td>1467</td>\n",
              "      <td>1</td>\n",
              "      <td>-1</td>\n",
              "      <td>0</td>\n",
              "      <td>unknown</td>\n",
              "      <td>yes</td>\n",
              "    </tr>\n",
              "    <tr>\n",
              "      <th>2</th>\n",
              "      <td>41</td>\n",
              "      <td>technician</td>\n",
              "      <td>married</td>\n",
              "      <td>secondary</td>\n",
              "      <td>no</td>\n",
              "      <td>1270</td>\n",
              "      <td>yes</td>\n",
              "      <td>no</td>\n",
              "      <td>unknown</td>\n",
              "      <td>5</td>\n",
              "      <td>may</td>\n",
              "      <td>1389</td>\n",
              "      <td>1</td>\n",
              "      <td>-1</td>\n",
              "      <td>0</td>\n",
              "      <td>unknown</td>\n",
              "      <td>yes</td>\n",
              "    </tr>\n",
              "    <tr>\n",
              "      <th>3</th>\n",
              "      <td>55</td>\n",
              "      <td>services</td>\n",
              "      <td>married</td>\n",
              "      <td>secondary</td>\n",
              "      <td>no</td>\n",
              "      <td>2476</td>\n",
              "      <td>yes</td>\n",
              "      <td>no</td>\n",
              "      <td>unknown</td>\n",
              "      <td>5</td>\n",
              "      <td>may</td>\n",
              "      <td>579</td>\n",
              "      <td>1</td>\n",
              "      <td>-1</td>\n",
              "      <td>0</td>\n",
              "      <td>unknown</td>\n",
              "      <td>yes</td>\n",
              "    </tr>\n",
              "    <tr>\n",
              "      <th>4</th>\n",
              "      <td>54</td>\n",
              "      <td>admin.</td>\n",
              "      <td>married</td>\n",
              "      <td>tertiary</td>\n",
              "      <td>no</td>\n",
              "      <td>184</td>\n",
              "      <td>no</td>\n",
              "      <td>no</td>\n",
              "      <td>unknown</td>\n",
              "      <td>5</td>\n",
              "      <td>may</td>\n",
              "      <td>673</td>\n",
              "      <td>2</td>\n",
              "      <td>-1</td>\n",
              "      <td>0</td>\n",
              "      <td>unknown</td>\n",
              "      <td>yes</td>\n",
              "    </tr>\n",
              "  </tbody>\n",
              "</table>\n",
              "</div>\n",
              "      <button class=\"colab-df-convert\" onclick=\"convertToInteractive('df-d554f1e7-d967-45bb-845e-d1bf6c946c50')\"\n",
              "              title=\"Convert this dataframe to an interactive table.\"\n",
              "              style=\"display:none;\">\n",
              "        \n",
              "  <svg xmlns=\"http://www.w3.org/2000/svg\" height=\"24px\"viewBox=\"0 0 24 24\"\n",
              "       width=\"24px\">\n",
              "    <path d=\"M0 0h24v24H0V0z\" fill=\"none\"/>\n",
              "    <path d=\"M18.56 5.44l.94 2.06.94-2.06 2.06-.94-2.06-.94-.94-2.06-.94 2.06-2.06.94zm-11 1L8.5 8.5l.94-2.06 2.06-.94-2.06-.94L8.5 2.5l-.94 2.06-2.06.94zm10 10l.94 2.06.94-2.06 2.06-.94-2.06-.94-.94-2.06-.94 2.06-2.06.94z\"/><path d=\"M17.41 7.96l-1.37-1.37c-.4-.4-.92-.59-1.43-.59-.52 0-1.04.2-1.43.59L10.3 9.45l-7.72 7.72c-.78.78-.78 2.05 0 2.83L4 21.41c.39.39.9.59 1.41.59.51 0 1.02-.2 1.41-.59l7.78-7.78 2.81-2.81c.8-.78.8-2.07 0-2.86zM5.41 20L4 18.59l7.72-7.72 1.47 1.35L5.41 20z\"/>\n",
              "  </svg>\n",
              "      </button>\n",
              "      \n",
              "  <style>\n",
              "    .colab-df-container {\n",
              "      display:flex;\n",
              "      flex-wrap:wrap;\n",
              "      gap: 12px;\n",
              "    }\n",
              "\n",
              "    .colab-df-convert {\n",
              "      background-color: #E8F0FE;\n",
              "      border: none;\n",
              "      border-radius: 50%;\n",
              "      cursor: pointer;\n",
              "      display: none;\n",
              "      fill: #1967D2;\n",
              "      height: 32px;\n",
              "      padding: 0 0 0 0;\n",
              "      width: 32px;\n",
              "    }\n",
              "\n",
              "    .colab-df-convert:hover {\n",
              "      background-color: #E2EBFA;\n",
              "      box-shadow: 0px 1px 2px rgba(60, 64, 67, 0.3), 0px 1px 3px 1px rgba(60, 64, 67, 0.15);\n",
              "      fill: #174EA6;\n",
              "    }\n",
              "\n",
              "    [theme=dark] .colab-df-convert {\n",
              "      background-color: #3B4455;\n",
              "      fill: #D2E3FC;\n",
              "    }\n",
              "\n",
              "    [theme=dark] .colab-df-convert:hover {\n",
              "      background-color: #434B5C;\n",
              "      box-shadow: 0px 1px 3px 1px rgba(0, 0, 0, 0.15);\n",
              "      filter: drop-shadow(0px 1px 2px rgba(0, 0, 0, 0.3));\n",
              "      fill: #FFFFFF;\n",
              "    }\n",
              "  </style>\n",
              "\n",
              "      <script>\n",
              "        const buttonEl =\n",
              "          document.querySelector('#df-d554f1e7-d967-45bb-845e-d1bf6c946c50 button.colab-df-convert');\n",
              "        buttonEl.style.display =\n",
              "          google.colab.kernel.accessAllowed ? 'block' : 'none';\n",
              "\n",
              "        async function convertToInteractive(key) {\n",
              "          const element = document.querySelector('#df-d554f1e7-d967-45bb-845e-d1bf6c946c50');\n",
              "          const dataTable =\n",
              "            await google.colab.kernel.invokeFunction('convertToInteractive',\n",
              "                                                     [key], {});\n",
              "          if (!dataTable) return;\n",
              "\n",
              "          const docLinkHtml = 'Like what you see? Visit the ' +\n",
              "            '<a target=\"_blank\" href=https://colab.research.google.com/notebooks/data_table.ipynb>data table notebook</a>'\n",
              "            + ' to learn more about interactive tables.';\n",
              "          element.innerHTML = '';\n",
              "          dataTable['output_type'] = 'display_data';\n",
              "          await google.colab.output.renderOutput(dataTable, element);\n",
              "          const docLink = document.createElement('div');\n",
              "          docLink.innerHTML = docLinkHtml;\n",
              "          element.appendChild(docLink);\n",
              "        }\n",
              "      </script>\n",
              "    </div>\n",
              "  </div>\n",
              "  "
            ]
          },
          "metadata": {},
          "execution_count": 36
        }
      ],
      "source": [
        "#get data\n",
        "df =pd.read_csv(\"/content/bank.csv\")\n",
        "df.head()"
      ]
    },
    {
      "cell_type": "code",
      "execution_count": null,
      "metadata": {
        "colab": {
          "base_uri": "https://localhost:8080/"
        },
        "id": "FABs1CnfIN4t",
        "outputId": "baeb4762-ee02-418e-96fb-c65e2cd33928"
      },
      "outputs": [
        {
          "output_type": "execute_result",
          "data": {
            "text/plain": [
              "age           int64\n",
              "job          object\n",
              "marital      object\n",
              "education    object\n",
              "default      object\n",
              "balance       int64\n",
              "housing      object\n",
              "loan         object\n",
              "contact      object\n",
              "day           int64\n",
              "month        object\n",
              "duration      int64\n",
              "campaign      int64\n",
              "pdays         int64\n",
              "previous      int64\n",
              "poutcome     object\n",
              "deposit      object\n",
              "dtype: object"
            ]
          },
          "metadata": {},
          "execution_count": 37
        }
      ],
      "source": [
        "df.dtypes"
      ]
    },
    {
      "cell_type": "code",
      "execution_count": null,
      "metadata": {
        "colab": {
          "base_uri": "https://localhost:8080/"
        },
        "id": "vQExZ6URI3PZ",
        "outputId": "d412ecca-c24c-4414-d9c4-3b08f8843da9"
      },
      "outputs": [
        {
          "output_type": "execute_result",
          "data": {
            "text/plain": [
              "age          0\n",
              "job          0\n",
              "marital      0\n",
              "education    0\n",
              "default      0\n",
              "balance      0\n",
              "housing      0\n",
              "loan         0\n",
              "contact      0\n",
              "day          0\n",
              "month        0\n",
              "duration     0\n",
              "campaign     0\n",
              "pdays        0\n",
              "previous     0\n",
              "poutcome     0\n",
              "deposit      0\n",
              "dtype: int64"
            ]
          },
          "metadata": {},
          "execution_count": 38
        }
      ],
      "source": [
        "df.isnull().sum()"
      ]
    },
    {
      "cell_type": "code",
      "source": [
        "enc = {\"job\":{\"unknown\":0,\"management\": 1, \"blue-collar\": 2, \"technician\":3, \"admin.\":4, \"services\": 5, \"retired\":6,\"self-employed\":7,\"student\":8,\n",
        "                       \"unemployed\":9,\"entrepreneur\":10, \"housemaid\":11},\n",
        "           \"marital\":{\"married\":1,\"single\":2,\"divorced\":3},\n",
        "           \"education\":{\"secondary\":2,\"tertiary\":3,\"primary\":1,\"unknown\":0},\n",
        "           \"default\":{\"yes\":1,\"no\":0},\n",
        "           \"housing\":{\"yes\":1, \"no\":0},\n",
        "           \"loan\":{\"yes\":1, \"no\":0},\n",
        "           \"contact\":{\"unknown\":0, \"cellular\":1, \"telephone\":2},\n",
        "           \"month\":{\"jan\":1,\"feb\":2,\"mar\":3, \"apr\":4,\"may\":5,\"jun\":6,\"jul\":7,\"aug\":8,\"sep\":9,\"oct\":10,\"nov\":11,\"dec\":12},\n",
        "           \"poutcome\":{\"unknown\":0,\"failure\":1,\"success\":2,\"other\":3},\n",
        "           \"deposit\":{\"yes\":1,\"no\":0}}\n",
        "df=df.replace(enc)\n",
        "df.head()"
      ],
      "metadata": {
        "colab": {
          "base_uri": "https://localhost:8080/",
          "height": 206
        },
        "id": "OTyMwR9hkbab",
        "outputId": "8ad085fa-d608-4c82-a0ad-746817972c68"
      },
      "execution_count": null,
      "outputs": [
        {
          "output_type": "execute_result",
          "data": {
            "text/plain": [
              "   age  job  marital  education  default  balance  housing  loan  contact  \\\n",
              "0   59    4        1          2        0     2343        1     0        0   \n",
              "1   56    4        1          2        0       45        0     0        0   \n",
              "2   41    3        1          2        0     1270        1     0        0   \n",
              "3   55    5        1          2        0     2476        1     0        0   \n",
              "4   54    4        1          3        0      184        0     0        0   \n",
              "\n",
              "   day  month  duration  campaign  pdays  previous  poutcome  deposit  \n",
              "0    5      5      1042         1     -1         0         0        1  \n",
              "1    5      5      1467         1     -1         0         0        1  \n",
              "2    5      5      1389         1     -1         0         0        1  \n",
              "3    5      5       579         1     -1         0         0        1  \n",
              "4    5      5       673         2     -1         0         0        1  "
            ],
            "text/html": [
              "\n",
              "  <div id=\"df-021856d8-3e23-4191-9379-54c58f8ce844\">\n",
              "    <div class=\"colab-df-container\">\n",
              "      <div>\n",
              "<style scoped>\n",
              "    .dataframe tbody tr th:only-of-type {\n",
              "        vertical-align: middle;\n",
              "    }\n",
              "\n",
              "    .dataframe tbody tr th {\n",
              "        vertical-align: top;\n",
              "    }\n",
              "\n",
              "    .dataframe thead th {\n",
              "        text-align: right;\n",
              "    }\n",
              "</style>\n",
              "<table border=\"1\" class=\"dataframe\">\n",
              "  <thead>\n",
              "    <tr style=\"text-align: right;\">\n",
              "      <th></th>\n",
              "      <th>age</th>\n",
              "      <th>job</th>\n",
              "      <th>marital</th>\n",
              "      <th>education</th>\n",
              "      <th>default</th>\n",
              "      <th>balance</th>\n",
              "      <th>housing</th>\n",
              "      <th>loan</th>\n",
              "      <th>contact</th>\n",
              "      <th>day</th>\n",
              "      <th>month</th>\n",
              "      <th>duration</th>\n",
              "      <th>campaign</th>\n",
              "      <th>pdays</th>\n",
              "      <th>previous</th>\n",
              "      <th>poutcome</th>\n",
              "      <th>deposit</th>\n",
              "    </tr>\n",
              "  </thead>\n",
              "  <tbody>\n",
              "    <tr>\n",
              "      <th>0</th>\n",
              "      <td>59</td>\n",
              "      <td>4</td>\n",
              "      <td>1</td>\n",
              "      <td>2</td>\n",
              "      <td>0</td>\n",
              "      <td>2343</td>\n",
              "      <td>1</td>\n",
              "      <td>0</td>\n",
              "      <td>0</td>\n",
              "      <td>5</td>\n",
              "      <td>5</td>\n",
              "      <td>1042</td>\n",
              "      <td>1</td>\n",
              "      <td>-1</td>\n",
              "      <td>0</td>\n",
              "      <td>0</td>\n",
              "      <td>1</td>\n",
              "    </tr>\n",
              "    <tr>\n",
              "      <th>1</th>\n",
              "      <td>56</td>\n",
              "      <td>4</td>\n",
              "      <td>1</td>\n",
              "      <td>2</td>\n",
              "      <td>0</td>\n",
              "      <td>45</td>\n",
              "      <td>0</td>\n",
              "      <td>0</td>\n",
              "      <td>0</td>\n",
              "      <td>5</td>\n",
              "      <td>5</td>\n",
              "      <td>1467</td>\n",
              "      <td>1</td>\n",
              "      <td>-1</td>\n",
              "      <td>0</td>\n",
              "      <td>0</td>\n",
              "      <td>1</td>\n",
              "    </tr>\n",
              "    <tr>\n",
              "      <th>2</th>\n",
              "      <td>41</td>\n",
              "      <td>3</td>\n",
              "      <td>1</td>\n",
              "      <td>2</td>\n",
              "      <td>0</td>\n",
              "      <td>1270</td>\n",
              "      <td>1</td>\n",
              "      <td>0</td>\n",
              "      <td>0</td>\n",
              "      <td>5</td>\n",
              "      <td>5</td>\n",
              "      <td>1389</td>\n",
              "      <td>1</td>\n",
              "      <td>-1</td>\n",
              "      <td>0</td>\n",
              "      <td>0</td>\n",
              "      <td>1</td>\n",
              "    </tr>\n",
              "    <tr>\n",
              "      <th>3</th>\n",
              "      <td>55</td>\n",
              "      <td>5</td>\n",
              "      <td>1</td>\n",
              "      <td>2</td>\n",
              "      <td>0</td>\n",
              "      <td>2476</td>\n",
              "      <td>1</td>\n",
              "      <td>0</td>\n",
              "      <td>0</td>\n",
              "      <td>5</td>\n",
              "      <td>5</td>\n",
              "      <td>579</td>\n",
              "      <td>1</td>\n",
              "      <td>-1</td>\n",
              "      <td>0</td>\n",
              "      <td>0</td>\n",
              "      <td>1</td>\n",
              "    </tr>\n",
              "    <tr>\n",
              "      <th>4</th>\n",
              "      <td>54</td>\n",
              "      <td>4</td>\n",
              "      <td>1</td>\n",
              "      <td>3</td>\n",
              "      <td>0</td>\n",
              "      <td>184</td>\n",
              "      <td>0</td>\n",
              "      <td>0</td>\n",
              "      <td>0</td>\n",
              "      <td>5</td>\n",
              "      <td>5</td>\n",
              "      <td>673</td>\n",
              "      <td>2</td>\n",
              "      <td>-1</td>\n",
              "      <td>0</td>\n",
              "      <td>0</td>\n",
              "      <td>1</td>\n",
              "    </tr>\n",
              "  </tbody>\n",
              "</table>\n",
              "</div>\n",
              "      <button class=\"colab-df-convert\" onclick=\"convertToInteractive('df-021856d8-3e23-4191-9379-54c58f8ce844')\"\n",
              "              title=\"Convert this dataframe to an interactive table.\"\n",
              "              style=\"display:none;\">\n",
              "        \n",
              "  <svg xmlns=\"http://www.w3.org/2000/svg\" height=\"24px\"viewBox=\"0 0 24 24\"\n",
              "       width=\"24px\">\n",
              "    <path d=\"M0 0h24v24H0V0z\" fill=\"none\"/>\n",
              "    <path d=\"M18.56 5.44l.94 2.06.94-2.06 2.06-.94-2.06-.94-.94-2.06-.94 2.06-2.06.94zm-11 1L8.5 8.5l.94-2.06 2.06-.94-2.06-.94L8.5 2.5l-.94 2.06-2.06.94zm10 10l.94 2.06.94-2.06 2.06-.94-2.06-.94-.94-2.06-.94 2.06-2.06.94z\"/><path d=\"M17.41 7.96l-1.37-1.37c-.4-.4-.92-.59-1.43-.59-.52 0-1.04.2-1.43.59L10.3 9.45l-7.72 7.72c-.78.78-.78 2.05 0 2.83L4 21.41c.39.39.9.59 1.41.59.51 0 1.02-.2 1.41-.59l7.78-7.78 2.81-2.81c.8-.78.8-2.07 0-2.86zM5.41 20L4 18.59l7.72-7.72 1.47 1.35L5.41 20z\"/>\n",
              "  </svg>\n",
              "      </button>\n",
              "      \n",
              "  <style>\n",
              "    .colab-df-container {\n",
              "      display:flex;\n",
              "      flex-wrap:wrap;\n",
              "      gap: 12px;\n",
              "    }\n",
              "\n",
              "    .colab-df-convert {\n",
              "      background-color: #E8F0FE;\n",
              "      border: none;\n",
              "      border-radius: 50%;\n",
              "      cursor: pointer;\n",
              "      display: none;\n",
              "      fill: #1967D2;\n",
              "      height: 32px;\n",
              "      padding: 0 0 0 0;\n",
              "      width: 32px;\n",
              "    }\n",
              "\n",
              "    .colab-df-convert:hover {\n",
              "      background-color: #E2EBFA;\n",
              "      box-shadow: 0px 1px 2px rgba(60, 64, 67, 0.3), 0px 1px 3px 1px rgba(60, 64, 67, 0.15);\n",
              "      fill: #174EA6;\n",
              "    }\n",
              "\n",
              "    [theme=dark] .colab-df-convert {\n",
              "      background-color: #3B4455;\n",
              "      fill: #D2E3FC;\n",
              "    }\n",
              "\n",
              "    [theme=dark] .colab-df-convert:hover {\n",
              "      background-color: #434B5C;\n",
              "      box-shadow: 0px 1px 3px 1px rgba(0, 0, 0, 0.15);\n",
              "      filter: drop-shadow(0px 1px 2px rgba(0, 0, 0, 0.3));\n",
              "      fill: #FFFFFF;\n",
              "    }\n",
              "  </style>\n",
              "\n",
              "      <script>\n",
              "        const buttonEl =\n",
              "          document.querySelector('#df-021856d8-3e23-4191-9379-54c58f8ce844 button.colab-df-convert');\n",
              "        buttonEl.style.display =\n",
              "          google.colab.kernel.accessAllowed ? 'block' : 'none';\n",
              "\n",
              "        async function convertToInteractive(key) {\n",
              "          const element = document.querySelector('#df-021856d8-3e23-4191-9379-54c58f8ce844');\n",
              "          const dataTable =\n",
              "            await google.colab.kernel.invokeFunction('convertToInteractive',\n",
              "                                                     [key], {});\n",
              "          if (!dataTable) return;\n",
              "\n",
              "          const docLinkHtml = 'Like what you see? Visit the ' +\n",
              "            '<a target=\"_blank\" href=https://colab.research.google.com/notebooks/data_table.ipynb>data table notebook</a>'\n",
              "            + ' to learn more about interactive tables.';\n",
              "          element.innerHTML = '';\n",
              "          dataTable['output_type'] = 'display_data';\n",
              "          await google.colab.output.renderOutput(dataTable, element);\n",
              "          const docLink = document.createElement('div');\n",
              "          docLink.innerHTML = docLinkHtml;\n",
              "          element.appendChild(docLink);\n",
              "        }\n",
              "      </script>\n",
              "    </div>\n",
              "  </div>\n",
              "  "
            ]
          },
          "metadata": {},
          "execution_count": 39
        }
      ]
    },
    {
      "cell_type": "code",
      "execution_count": null,
      "metadata": {
        "id": "m6l970eEI6ZR"
      },
      "outputs": [],
      "source": [
        "#Encoding data\n",
        "#le=preprocessing.LabelEncoder()\n",
        "#categ=['job', 'marital','education', 'default','housing','loan','contact','month','poutcome','deposit']\n",
        "#df[categ] =df[categ].apply(le.fit_transform)\n",
        "#df"
      ]
    },
    {
      "cell_type": "code",
      "execution_count": null,
      "metadata": {
        "colab": {
          "base_uri": "https://localhost:8080/",
          "height": 1000
        },
        "id": "PrWVUwJfKCFn",
        "outputId": "9ee80be6-387b-4e83-b402-f3bfa2ea65ff"
      },
      "outputs": [
        {
          "output_type": "execute_result",
          "data": {
            "text/plain": [
              "array([[<matplotlib.axes._subplots.AxesSubplot object at 0x7f6fff36c790>,\n",
              "        <matplotlib.axes._subplots.AxesSubplot object at 0x7f6fff33f810>,\n",
              "        <matplotlib.axes._subplots.AxesSubplot object at 0x7f6fff2f1d10>,\n",
              "        <matplotlib.axes._subplots.AxesSubplot object at 0x7f6fff2ae250>],\n",
              "       [<matplotlib.axes._subplots.AxesSubplot object at 0x7f6fff2e5750>,\n",
              "        <matplotlib.axes._subplots.AxesSubplot object at 0x7f6fff29cc50>,\n",
              "        <matplotlib.axes._subplots.AxesSubplot object at 0x7f6fff25f210>,\n",
              "        <matplotlib.axes._subplots.AxesSubplot object at 0x7f6fff216650>],\n",
              "       [<matplotlib.axes._subplots.AxesSubplot object at 0x7f6fff216690>,\n",
              "        <matplotlib.axes._subplots.AxesSubplot object at 0x7f6fff1cbc90>,\n",
              "        <matplotlib.axes._subplots.AxesSubplot object at 0x7f6fff144510>,\n",
              "        <matplotlib.axes._subplots.AxesSubplot object at 0x7f6fff0fca10>],\n",
              "       [<matplotlib.axes._subplots.AxesSubplot object at 0x7f6fff0b4f10>,\n",
              "        <matplotlib.axes._subplots.AxesSubplot object at 0x7f6fff076450>,\n",
              "        <matplotlib.axes._subplots.AxesSubplot object at 0x7f6fff02d950>,\n",
              "        <matplotlib.axes._subplots.AxesSubplot object at 0x7f6fff063e50>],\n",
              "       [<matplotlib.axes._subplots.AxesSubplot object at 0x7f6fff026390>,\n",
              "        <matplotlib.axes._subplots.AxesSubplot object at 0x7f6ffefdd890>,\n",
              "        <matplotlib.axes._subplots.AxesSubplot object at 0x7f6ffef93d90>,\n",
              "        <matplotlib.axes._subplots.AxesSubplot object at 0x7f6ffef562d0>]],\n",
              "      dtype=object)"
            ]
          },
          "metadata": {},
          "execution_count": 41
        },
        {
          "output_type": "display_data",
          "data": {
            "text/plain": [
              "<Figure size 1080x1080 with 20 Axes>"
            ],
            "image/png": "[encoded data removed]"
          },
          "metadata": {
            "needs_background": "light"
          }
        }
      ],
      "source": [
        "#visualization\n",
        "df.hist(figsize=[15,15])"
      ]
    },
    {
      "cell_type": "code",
      "execution_count": null,
      "metadata": {
        "id": "S6_KNRdoKulq"
      },
      "outputs": [],
      "source": [
        "# features\n",
        "x=df.drop(columns=['deposit']).values\n",
        "# target\n",
        "y = df['deposit']"
      ]
    },
    {
      "cell_type": "code",
      "source": [
        "x"
      ],
      "metadata": {
        "colab": {
          "base_uri": "https://localhost:8080/"
        },
        "id": "nZ59Cu9TVkoG",
        "outputId": "42ff127f-aff3-4516-f7bf-9bcca50fb3ca"
      },
      "execution_count": null,
      "outputs": [
        {
          "output_type": "execute_result",
          "data": {
            "text/plain": [
              "array([[ 59,   4,   1, ...,  -1,   0,   0],\n",
              "       [ 56,   4,   1, ...,  -1,   0,   0],\n",
              "       [ 41,   3,   1, ...,  -1,   0,   0],\n",
              "       ...,\n",
              "       [ 32,   3,   2, ...,  -1,   0,   0],\n",
              "       [ 43,   3,   1, ..., 172,   5,   1],\n",
              "       [ 34,   3,   1, ...,  -1,   0,   0]])"
            ]
          },
          "metadata": {},
          "execution_count": 43
        }
      ]
    },
    {
      "cell_type": "code",
      "source": [
        "from tensorflow.keras.utils import to_categorical\n",
        "y= to_categorical(y)"
      ],
      "metadata": {
        "id": "0wLhs89pUt0X"
      },
      "execution_count": null,
      "outputs": []
    },
    {
      "cell_type": "code",
      "execution_count": null,
      "metadata": {
        "id": "mPxe8tLrUUUt"
      },
      "outputs": [],
      "source": [
        "#normalization  \n",
        "from sklearn import preprocessing\n",
        "scaler= preprocessing.StandardScaler()\n",
        "x=scaler.fit_transform(x)\n"
      ]
    },
    {
      "cell_type": "code",
      "execution_count": null,
      "metadata": {
        "id": "jBTvoRJDLKHT"
      },
      "outputs": [],
      "source": [
        "#Splitting the data\n",
        "from sklearn.model_selection import train_test_split\n",
        "xtrain, xtest , ytrain , ytest = train_test_split(x,y, test_size=0.1)\n",
        "xmodel , xval , ymodel, yval= train_test_split(xtrain, ytrain, test_size=0.2)"
      ]
    },
    {
      "cell_type": "code",
      "execution_count": null,
      "metadata": {
        "id": "8RGAhffmL1xC"
      },
      "outputs": [],
      "source": [
        "#building the model\n",
        "model=tf.keras.Sequential()\n",
        "model.add(layers.Input(xmodel.shape[1]))\n",
        "model.add(layers.Dense(24,activation='relu'))\n",
        "model.add(tf.keras.layers.Dropout(0.3))\n",
        "model.add(layers.Dense(24,activation='relu'))\n",
        "#model.add(layers.Dense(32,activation='relu')) \n",
        "#model.add(tf.keras.layers.Dropout(0.4))\n",
        "#model.add(layers.Dense(32,activation='relu'))\n",
        "model.add(layers.Dense(2, activation='softmax'))\n",
        "\n"
      ]
    },
    {
      "cell_type": "code",
      "execution_count": null,
      "metadata": {
        "colab": {
          "base_uri": "https://localhost:8080/"
        },
        "id": "cY9KFAdPNgoT",
        "outputId": "f1e8d537-61b9-4b83-911b-2cbc31a101c1"
      },
      "outputs": [
        {
          "output_type": "stream",
          "name": "stdout",
          "text": [
            "Model: \"sequential\"\n",
            "_________________________________________________________________\n",
            " Layer (type)                Output Shape              Param #   \n",
            "=================================================================\n",
            " dense (Dense)               (None, 24)                408       \n",
            "                                                                 \n",
            " dropout (Dropout)           (None, 24)                0         \n",
            "                                                                 \n",
            " dense_1 (Dense)             (None, 24)                600       \n",
            "                                                                 \n",
            " dense_2 (Dense)             (None, 2)                 50        \n",
            "                                                                 \n",
            "=================================================================\n",
            "Total params: 1,058\n",
            "Trainable params: 1,058\n",
            "Non-trainable params: 0\n",
            "_________________________________________________________________\n"
          ]
        }
      ],
      "source": [
        "model.summary()"
      ]
    },
    {
      "cell_type": "code",
      "execution_count": null,
      "metadata": {
        "id": "fXcyCTVgO1qs"
      },
      "outputs": [],
      "source": [
        "model.compile(optimizer=tf.keras.optimizers.Adam(\n",
        "    learning_rate=0.001),\n",
        "              loss=tf.keras.losses.BinaryCrossentropy(from_logits=True),\n",
        "              metrics=['accuracy'])"
      ]
    },
    {
      "cell_type": "code",
      "execution_count": null,
      "metadata": {
        "colab": {
          "base_uri": "https://localhost:8080/"
        },
        "id": "M2IBYzn_O8ge",
        "outputId": "aeb7bec2-491a-4773-8f3f-30ac740e79dc"
      },
      "outputs": [
        {
          "output_type": "stream",
          "name": "stdout",
          "text": [
            "Epoch 1/60\n"
          ]
        },
        {
          "output_type": "stream",
          "name": "stderr",
          "text": [
            "/usr/local/lib/python3.7/dist-packages/tensorflow/python/util/dispatch.py:1082: UserWarning: \"`binary_crossentropy` received `from_logits=True`, but the `output` argument was produced by a sigmoid or softmax activation and thus does not represent logits. Was this intended?\"\n",
            "  return dispatch_target(*args, **kwargs)\n"
          ]
        },
        {
          "output_type": "stream",
          "name": "stdout",
          "text": [
            "252/252 [==============================] - 2s 3ms/step - loss: 0.6009 - accuracy: 0.6951 - val_loss: 0.5091 - val_accuracy: 0.7581\n",
            "Epoch 2/60\n",
            "252/252 [==============================] - 1s 3ms/step - loss: 0.4949 - accuracy: 0.7646 - val_loss: 0.4688 - val_accuracy: 0.7795\n",
            "Epoch 3/60\n",
            "252/252 [==============================] - 1s 3ms/step - loss: 0.4667 - accuracy: 0.7858 - val_loss: 0.4565 - val_accuracy: 0.7904\n",
            "Epoch 4/60\n",
            "252/252 [==============================] - 1s 3ms/step - loss: 0.4527 - accuracy: 0.7947 - val_loss: 0.4502 - val_accuracy: 0.7929\n",
            "Epoch 5/60\n",
            "252/252 [==============================] - 1s 2ms/step - loss: 0.4466 - accuracy: 0.8004 - val_loss: 0.4451 - val_accuracy: 0.7959\n",
            "Epoch 6/60\n",
            "252/252 [==============================] - 1s 3ms/step - loss: 0.4437 - accuracy: 0.8009 - val_loss: 0.4431 - val_accuracy: 0.7984\n",
            "Epoch 7/60\n",
            "252/252 [==============================] - 1s 2ms/step - loss: 0.4407 - accuracy: 0.8015 - val_loss: 0.4419 - val_accuracy: 0.8004\n",
            "Epoch 8/60\n",
            "252/252 [==============================] - 1s 2ms/step - loss: 0.4392 - accuracy: 0.8029 - val_loss: 0.4409 - val_accuracy: 0.8049\n",
            "Epoch 9/60\n",
            "252/252 [==============================] - 1s 3ms/step - loss: 0.4327 - accuracy: 0.8009 - val_loss: 0.4385 - val_accuracy: 0.8059\n",
            "Epoch 10/60\n",
            "252/252 [==============================] - 1s 2ms/step - loss: 0.4296 - accuracy: 0.8074 - val_loss: 0.4366 - val_accuracy: 0.8089\n",
            "Epoch 11/60\n",
            "252/252 [==============================] - 1s 3ms/step - loss: 0.4247 - accuracy: 0.8101 - val_loss: 0.4353 - val_accuracy: 0.8054\n",
            "Epoch 12/60\n",
            "252/252 [==============================] - 1s 3ms/step - loss: 0.4236 - accuracy: 0.8137 - val_loss: 0.4317 - val_accuracy: 0.8099\n",
            "Epoch 13/60\n",
            "252/252 [==============================] - 1s 2ms/step - loss: 0.4257 - accuracy: 0.8072 - val_loss: 0.4362 - val_accuracy: 0.8089\n",
            "Epoch 14/60\n",
            "252/252 [==============================] - 1s 2ms/step - loss: 0.4259 - accuracy: 0.8087 - val_loss: 0.4331 - val_accuracy: 0.8099\n",
            "Epoch 15/60\n",
            "252/252 [==============================] - 1s 2ms/step - loss: 0.4176 - accuracy: 0.8163 - val_loss: 0.4317 - val_accuracy: 0.8089\n",
            "Epoch 16/60\n",
            "252/252 [==============================] - 0s 2ms/step - loss: 0.4190 - accuracy: 0.8171 - val_loss: 0.4298 - val_accuracy: 0.8128\n",
            "Epoch 17/60\n",
            "252/252 [==============================] - 1s 3ms/step - loss: 0.4140 - accuracy: 0.8167 - val_loss: 0.4282 - val_accuracy: 0.8099\n",
            "Epoch 18/60\n",
            "252/252 [==============================] - 1s 3ms/step - loss: 0.4132 - accuracy: 0.8160 - val_loss: 0.4284 - val_accuracy: 0.8089\n",
            "Epoch 19/60\n",
            "252/252 [==============================] - 1s 2ms/step - loss: 0.4158 - accuracy: 0.8181 - val_loss: 0.4258 - val_accuracy: 0.8074\n",
            "Epoch 20/60\n",
            "252/252 [==============================] - 1s 2ms/step - loss: 0.4143 - accuracy: 0.8165 - val_loss: 0.4266 - val_accuracy: 0.8118\n",
            "Epoch 21/60\n",
            "252/252 [==============================] - 1s 2ms/step - loss: 0.4107 - accuracy: 0.8165 - val_loss: 0.4237 - val_accuracy: 0.8109\n",
            "Epoch 22/60\n",
            "252/252 [==============================] - 1s 2ms/step - loss: 0.4110 - accuracy: 0.8167 - val_loss: 0.4236 - val_accuracy: 0.8064\n",
            "Epoch 23/60\n",
            "252/252 [==============================] - 1s 2ms/step - loss: 0.4075 - accuracy: 0.8166 - val_loss: 0.4230 - val_accuracy: 0.8069\n",
            "Epoch 24/60\n",
            "252/252 [==============================] - 1s 2ms/step - loss: 0.4055 - accuracy: 0.8209 - val_loss: 0.4231 - val_accuracy: 0.8099\n",
            "Epoch 25/60\n",
            "252/252 [==============================] - 1s 2ms/step - loss: 0.4070 - accuracy: 0.8197 - val_loss: 0.4196 - val_accuracy: 0.8084\n",
            "Epoch 26/60\n",
            "252/252 [==============================] - 1s 2ms/step - loss: 0.4106 - accuracy: 0.8204 - val_loss: 0.4188 - val_accuracy: 0.8099\n",
            "Epoch 27/60\n",
            "252/252 [==============================] - 1s 2ms/step - loss: 0.4072 - accuracy: 0.8178 - val_loss: 0.4185 - val_accuracy: 0.8074\n",
            "Epoch 28/60\n",
            "252/252 [==============================] - 1s 2ms/step - loss: 0.4070 - accuracy: 0.8153 - val_loss: 0.4195 - val_accuracy: 0.8133\n",
            "Epoch 29/60\n",
            "252/252 [==============================] - 1s 2ms/step - loss: 0.3989 - accuracy: 0.8222 - val_loss: 0.4166 - val_accuracy: 0.8133\n",
            "Epoch 30/60\n",
            "252/252 [==============================] - 1s 2ms/step - loss: 0.4029 - accuracy: 0.8204 - val_loss: 0.4164 - val_accuracy: 0.8138\n",
            "Epoch 31/60\n",
            "252/252 [==============================] - 1s 2ms/step - loss: 0.4025 - accuracy: 0.8233 - val_loss: 0.4170 - val_accuracy: 0.8153\n",
            "Epoch 32/60\n",
            "252/252 [==============================] - 1s 3ms/step - loss: 0.4020 - accuracy: 0.8228 - val_loss: 0.4150 - val_accuracy: 0.8148\n",
            "Epoch 33/60\n",
            "252/252 [==============================] - 1s 3ms/step - loss: 0.3951 - accuracy: 0.8264 - val_loss: 0.4130 - val_accuracy: 0.8148\n",
            "Epoch 34/60\n",
            "252/252 [==============================] - 1s 2ms/step - loss: 0.3926 - accuracy: 0.8260 - val_loss: 0.4159 - val_accuracy: 0.8118\n",
            "Epoch 35/60\n",
            "252/252 [==============================] - 1s 2ms/step - loss: 0.3946 - accuracy: 0.8273 - val_loss: 0.4176 - val_accuracy: 0.8133\n",
            "Epoch 36/60\n",
            "252/252 [==============================] - 1s 2ms/step - loss: 0.3926 - accuracy: 0.8272 - val_loss: 0.4140 - val_accuracy: 0.8133\n",
            "Epoch 37/60\n",
            "252/252 [==============================] - 1s 2ms/step - loss: 0.3978 - accuracy: 0.8267 - val_loss: 0.4115 - val_accuracy: 0.8123\n",
            "Epoch 38/60\n",
            "252/252 [==============================] - 1s 2ms/step - loss: 0.3865 - accuracy: 0.8281 - val_loss: 0.4098 - val_accuracy: 0.8118\n",
            "Epoch 39/60\n",
            "252/252 [==============================] - 0s 2ms/step - loss: 0.3910 - accuracy: 0.8274 - val_loss: 0.4119 - val_accuracy: 0.8133\n",
            "Epoch 40/60\n",
            "252/252 [==============================] - 1s 2ms/step - loss: 0.3886 - accuracy: 0.8274 - val_loss: 0.4109 - val_accuracy: 0.8168\n",
            "Epoch 41/60\n",
            "252/252 [==============================] - 1s 2ms/step - loss: 0.3929 - accuracy: 0.8278 - val_loss: 0.4108 - val_accuracy: 0.8178\n",
            "Epoch 42/60\n",
            "252/252 [==============================] - 1s 2ms/step - loss: 0.3898 - accuracy: 0.8263 - val_loss: 0.4117 - val_accuracy: 0.8158\n",
            "Epoch 43/60\n",
            "252/252 [==============================] - 1s 2ms/step - loss: 0.3914 - accuracy: 0.8306 - val_loss: 0.4100 - val_accuracy: 0.8148\n",
            "Epoch 44/60\n",
            "252/252 [==============================] - 1s 2ms/step - loss: 0.3887 - accuracy: 0.8274 - val_loss: 0.4097 - val_accuracy: 0.8158\n",
            "Epoch 45/60\n",
            "252/252 [==============================] - 1s 2ms/step - loss: 0.3903 - accuracy: 0.8290 - val_loss: 0.4093 - val_accuracy: 0.8173\n",
            "Epoch 46/60\n",
            "252/252 [==============================] - 1s 2ms/step - loss: 0.3839 - accuracy: 0.8309 - val_loss: 0.4086 - val_accuracy: 0.8158\n",
            "Epoch 47/60\n",
            "252/252 [==============================] - 1s 2ms/step - loss: 0.3877 - accuracy: 0.8305 - val_loss: 0.4075 - val_accuracy: 0.8173\n",
            "Epoch 48/60\n",
            "252/252 [==============================] - 1s 3ms/step - loss: 0.3826 - accuracy: 0.8309 - val_loss: 0.4052 - val_accuracy: 0.8198\n",
            "Epoch 49/60\n",
            "252/252 [==============================] - 1s 3ms/step - loss: 0.3793 - accuracy: 0.8323 - val_loss: 0.4044 - val_accuracy: 0.8228\n",
            "Epoch 50/60\n",
            "252/252 [==============================] - 1s 3ms/step - loss: 0.3829 - accuracy: 0.8336 - val_loss: 0.4042 - val_accuracy: 0.8233\n",
            "Epoch 51/60\n",
            "252/252 [==============================] - 1s 3ms/step - loss: 0.3810 - accuracy: 0.8330 - val_loss: 0.4041 - val_accuracy: 0.8218\n",
            "Epoch 52/60\n",
            "252/252 [==============================] - 1s 3ms/step - loss: 0.3789 - accuracy: 0.8319 - val_loss: 0.4016 - val_accuracy: 0.8263\n",
            "Epoch 53/60\n",
            "252/252 [==============================] - 1s 3ms/step - loss: 0.3808 - accuracy: 0.8320 - val_loss: 0.4070 - val_accuracy: 0.8238\n",
            "Epoch 54/60\n",
            "252/252 [==============================] - 1s 2ms/step - loss: 0.3858 - accuracy: 0.8280 - val_loss: 0.4030 - val_accuracy: 0.8223\n",
            "Epoch 55/60\n",
            "252/252 [==============================] - 1s 3ms/step - loss: 0.3820 - accuracy: 0.8329 - val_loss: 0.4036 - val_accuracy: 0.8248\n",
            "Epoch 56/60\n",
            "252/252 [==============================] - 1s 2ms/step - loss: 0.3794 - accuracy: 0.8362 - val_loss: 0.4041 - val_accuracy: 0.8253\n",
            "Epoch 57/60\n",
            "252/252 [==============================] - 1s 3ms/step - loss: 0.3787 - accuracy: 0.8359 - val_loss: 0.4030 - val_accuracy: 0.8248\n",
            "Epoch 58/60\n",
            "252/252 [==============================] - 1s 3ms/step - loss: 0.3786 - accuracy: 0.8342 - val_loss: 0.4008 - val_accuracy: 0.8288\n",
            "Epoch 59/60\n",
            "252/252 [==============================] - 1s 3ms/step - loss: 0.3797 - accuracy: 0.8323 - val_loss: 0.4022 - val_accuracy: 0.8243\n",
            "Epoch 60/60\n",
            "252/252 [==============================] - 1s 2ms/step - loss: 0.3740 - accuracy: 0.8359 - val_loss: 0.4031 - val_accuracy: 0.8263\n"
          ]
        },
        {
          "output_type": "execute_result",
          "data": {
            "text/plain": [
              "<keras.callbacks.History at 0x7f6ffeb913d0>"
            ]
          },
          "metadata": {},
          "execution_count": 50
        }
      ],
      "source": [
        "model.fit(xmodel, ymodel , batch_size=32,epochs=60, validation_data=(xval, yval)) "
      ]
    },
    {
      "cell_type": "code",
      "execution_count": null,
      "metadata": {
        "colab": {
          "base_uri": "https://localhost:8080/",
          "height": 573
        },
        "id": "YwQ58Yz1Ps_k",
        "outputId": "d136a936-8a01-4e0b-83c5-908ee33f24f6"
      },
      "outputs": [
        {
          "output_type": "display_data",
          "data": {
            "text/plain": [
              "<Figure size 432x288 with 1 Axes>"
            ],
            "image/png": "[encoded data removed]"
          },
          "metadata": {
            "needs_background": "light"
          }
        },
        {
          "output_type": "display_data",
          "data": {
            "text/plain": [
              "<Figure size 432x288 with 1 Axes>"
            ],
            "image/png": "[encoded data removed]"
          },
          "metadata": {
            "needs_background": "light"
          }
        }
      ],
      "source": [
        "plt.plot(model.history.history['accuracy'])\n",
        "plt.plot(model.history.history['val_accuracy'])\n",
        "plt.title('model accuracy')\n",
        "plt.ylabel('accuracy')\n",
        "plt.xlabel('epoch')\n",
        "plt.legend(['train', 'test'], loc='upper left')\n",
        "plt.show()\n",
        "\n",
        "plt.plot(model.history.history['loss'])\n",
        "plt.plot(model.history.history['val_loss'])\n",
        "plt.title('model loss')\n",
        "plt.ylabel('loss')\n",
        "plt.xlabel('epoch')\n",
        "plt.legend(['train', 'test'], loc='upper left')\n",
        "plt.show()"
      ]
    },
    {
      "cell_type": "code",
      "execution_count": null,
      "metadata": {
        "colab": {
          "base_uri": "https://localhost:8080/"
        },
        "id": "MzHGXwTUh_6u",
        "outputId": "c23e0175-80f8-459f-ac62-e43e00529f22"
      },
      "outputs": [
        {
          "output_type": "stream",
          "name": "stdout",
          "text": [
            "35/35 - 0s - loss: 0.3683 - accuracy: 0.8380 - 56ms/epoch - 2ms/step\n",
            "\n",
            "Test accuracy: 83.7958812713623 %\n"
          ]
        }
      ],
      "source": [
        "#evaluation \n",
        "test_loss, test_acc = model.evaluate(xtest,  ytest, verbose=2)\n",
        "\n",
        "print('\\nTest accuracy:', test_acc *100, '%')"
      ]
    },
    {
      "cell_type": "code",
      "execution_count": null,
      "metadata": {
        "colab": {
          "base_uri": "https://localhost:8080/"
        },
        "id": "-QT5qtr1iApe",
        "outputId": "6e2067db-c7d1-48cc-ed55-a1e995513a06"
      },
      "outputs": [
        {
          "output_type": "stream",
          "name": "stdout",
          "text": [
            "63/63 - 0s - loss: 0.4031 - accuracy: 0.8263 - 85ms/epoch - 1ms/step\n",
            "\n",
            "Test accuracy: 82.6281726360321 %\n"
          ]
        }
      ],
      "source": [
        "val_loss,val_acc = model.evaluate(xval,yval,verbose=2)\n",
        "\n",
        "print('\\nTest accuracy:', val_acc *100, '%')"
      ]
    }
  ],
  "metadata": {
    "colab": {
      "provenance": [],
      "authorship_tag": "ABX9TyN3N5P3q4g/rH2l4mbX2/hX",
      "include_colab_link": true
    },
    "kernelspec": {
      "display_name": "Python 3",
      "name": "python3"
    },
    "language_info": {
      "name": "python"
    }
  },
  "nbformat": 4,
  "nbformat_minor": 0
}