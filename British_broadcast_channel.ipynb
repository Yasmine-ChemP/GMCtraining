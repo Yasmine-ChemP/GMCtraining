{
  "nbformat": 4,
  "nbformat_minor": 0,
  "metadata": {
    "colab": {
      "provenance": [],
      "authorship_tag": "ABX9TyOAEKVqqHzV0YTbJy/PfaQW",
      "include_colab_link": true
    },
    "kernelspec": {
      "name": "python3",
      "display_name": "Python 3"
    },
    "language_info": {
      "name": "python"
    },
    "accelerator": "GPU"
  },
  "cells": [
    {
      "cell_type": "markdown",
      "metadata": {
        "id": "view-in-github",
        "colab_type": "text"
      },
      "source": [
        "<a href=\"https://colab.research.google.com/github/Yasmine-ChemP/GMCtraining/blob/main/British_broadcast_channel.ipynb\" target=\"_parent\"><img src=\"https://colab.research.google.com/assets/colab-badge.svg\" alt=\"Open In Colab\"/></a>"
      ]
    },
    {
      "cell_type": "code",
      "execution_count": null,
      "metadata": {
        "colab": {
          "base_uri": "https://localhost:8080/"
        },
        "id": "LbrRYaaHSkGf",
        "outputId": "655852f4-4815-492f-f278-3f88e5c2cb8e"
      },
      "outputs": [
        {
          "output_type": "stream",
          "name": "stdout",
          "text": [
            "--2022-06-11 08:20:38--  https://raw.githubusercontent.com/susanli2016/PyCon-Canada-2019-NLP-Tutorial/master/bbc-text.csv\n",
            "Resolving raw.githubusercontent.com (raw.githubusercontent.com)... 185.199.108.133, 185.199.109.133, 185.199.110.133, ...\n",
            "Connecting to raw.githubusercontent.com (raw.githubusercontent.com)|185.199.108.133|:443... connected.\n",
            "HTTP request sent, awaiting response... 200 OK\n",
            "Length: 5057493 (4.8M) [text/plain]\n",
            "Saving to: ‘bbc-text.csv’\n",
            "\n",
            "bbc-text.csv        100%[===================>]   4.82M  --.-KB/s    in 0.07s   \n",
            "\n",
            "2022-06-11 08:20:38 (67.5 MB/s) - ‘bbc-text.csv’ saved [5057493/5057493]\n",
            "\n"
          ]
        }
      ],
      "source": [
        "!wget https://raw.githubusercontent.com/susanli2016/PyCon-Canada-2019-NLP-Tutorial/master/bbc-text.csv"
      ]
    },
    {
      "cell_type": "code",
      "source": [
        "import pandas as pd\n",
        "import numpy as np\n",
        "import tensorflow as tf \n",
        "from nltk.corpus import stopwords\n",
        "\n",
        "import nltk\n",
        "nltk.download('stopwords')\n",
        "\n",
        "STOPWORDS= set(stopwords.words('english'))\n"
      ],
      "metadata": {
        "colab": {
          "base_uri": "https://localhost:8080/"
        },
        "id": "DBojis9KS6RZ",
        "outputId": "7a3264b6-afc1-4bb1-c559-9349562ba5da"
      },
      "execution_count": null,
      "outputs": [
        {
          "output_type": "stream",
          "name": "stdout",
          "text": [
            "[nltk_data] Downloading package stopwords to /root/nltk_data...\n",
            "[nltk_data]   Unzipping corpora/stopwords.zip.\n"
          ]
        }
      ]
    },
    {
      "cell_type": "code",
      "source": [
        "df=pd.read_csv('bbc-text.csv')"
      ],
      "metadata": {
        "id": "7gtt1KzmTsat"
      },
      "execution_count": null,
      "outputs": []
    },
    {
      "cell_type": "code",
      "source": [
        "df.info()"
      ],
      "metadata": {
        "colab": {
          "base_uri": "https://localhost:8080/"
        },
        "id": "hMeJPz1lTyWt",
        "outputId": "f772b06f-5878-4991-92a8-e45bd8948e9f"
      },
      "execution_count": null,
      "outputs": [
        {
          "output_type": "stream",
          "name": "stdout",
          "text": [
            "<class 'pandas.core.frame.DataFrame'>\n",
            "RangeIndex: 2225 entries, 0 to 2224\n",
            "Data columns (total 2 columns):\n",
            " #   Column    Non-Null Count  Dtype \n",
            "---  ------    --------------  ----- \n",
            " 0   category  2225 non-null   object\n",
            " 1   text      2225 non-null   object\n",
            "dtypes: object(2)\n",
            "memory usage: 34.9+ KB\n"
          ]
        }
      ]
    },
    {
      "cell_type": "code",
      "source": [
        "print(df[\"category\"].unique())"
      ],
      "metadata": {
        "colab": {
          "base_uri": "https://localhost:8080/"
        },
        "id": "Al9IbnWnV580",
        "outputId": "41b5e7ea-efc5-466c-fa94-10aca7a0a0e4"
      },
      "execution_count": null,
      "outputs": [
        {
          "output_type": "stream",
          "name": "stdout",
          "text": [
            "['tech' 'business' 'sport' 'entertainment' 'politics']\n"
          ]
        }
      ]
    },
    {
      "cell_type": "code",
      "source": [
        "df.head()"
      ],
      "metadata": {
        "colab": {
          "base_uri": "https://localhost:8080/",
          "height": 206
        },
        "id": "3h5ykL88U2gY",
        "outputId": "176fd152-8be4-4a7c-f976-9bd0f56b0e7e"
      },
      "execution_count": null,
      "outputs": [
        {
          "output_type": "execute_result",
          "data": {
            "text/plain": [
              "        category                                               text\n",
              "0           tech  tv future in the hands of viewers with home th...\n",
              "1       business  worldcom boss  left books alone  former worldc...\n",
              "2          sport  tigers wary of farrell  gamble  leicester say ...\n",
              "3          sport  yeading face newcastle in fa cup premiership s...\n",
              "4  entertainment  ocean s twelve raids box office ocean s twelve..."
            ],
            "text/html": [
              "\n",
              "  <div id=\"df-eef836dd-e834-4720-b1d6-a1d1c867384e\">\n",
              "    <div class=\"colab-df-container\">\n",
              "      <div>\n",
              "<style scoped>\n",
              "    .dataframe tbody tr th:only-of-type {\n",
              "        vertical-align: middle;\n",
              "    }\n",
              "\n",
              "    .dataframe tbody tr th {\n",
              "        vertical-align: top;\n",
              "    }\n",
              "\n",
              "    .dataframe thead th {\n",
              "        text-align: right;\n",
              "    }\n",
              "</style>\n",
              "<table border=\"1\" class=\"dataframe\">\n",
              "  <thead>\n",
              "    <tr style=\"text-align: right;\">\n",
              "      <th></th>\n",
              "      <th>category</th>\n",
              "      <th>text</th>\n",
              "    </tr>\n",
              "  </thead>\n",
              "  <tbody>\n",
              "    <tr>\n",
              "      <th>0</th>\n",
              "      <td>tech</td>\n",
              "      <td>tv future in the hands of viewers with home th...</td>\n",
              "    </tr>\n",
              "    <tr>\n",
              "      <th>1</th>\n",
              "      <td>business</td>\n",
              "      <td>worldcom boss  left books alone  former worldc...</td>\n",
              "    </tr>\n",
              "    <tr>\n",
              "      <th>2</th>\n",
              "      <td>sport</td>\n",
              "      <td>tigers wary of farrell  gamble  leicester say ...</td>\n",
              "    </tr>\n",
              "    <tr>\n",
              "      <th>3</th>\n",
              "      <td>sport</td>\n",
              "      <td>yeading face newcastle in fa cup premiership s...</td>\n",
              "    </tr>\n",
              "    <tr>\n",
              "      <th>4</th>\n",
              "      <td>entertainment</td>\n",
              "      <td>ocean s twelve raids box office ocean s twelve...</td>\n",
              "    </tr>\n",
              "  </tbody>\n",
              "</table>\n",
              "</div>\n",
              "      <button class=\"colab-df-convert\" onclick=\"convertToInteractive('df-eef836dd-e834-4720-b1d6-a1d1c867384e')\"\n",
              "              title=\"Convert this dataframe to an interactive table.\"\n",
              "              style=\"display:none;\">\n",
              "        \n",
              "  <svg xmlns=\"http://www.w3.org/2000/svg\" height=\"24px\"viewBox=\"0 0 24 24\"\n",
              "       width=\"24px\">\n",
              "    <path d=\"M0 0h24v24H0V0z\" fill=\"none\"/>\n",
              "    <path d=\"M18.56 5.44l.94 2.06.94-2.06 2.06-.94-2.06-.94-.94-2.06-.94 2.06-2.06.94zm-11 1L8.5 8.5l.94-2.06 2.06-.94-2.06-.94L8.5 2.5l-.94 2.06-2.06.94zm10 10l.94 2.06.94-2.06 2.06-.94-2.06-.94-.94-2.06-.94 2.06-2.06.94z\"/><path d=\"M17.41 7.96l-1.37-1.37c-.4-.4-.92-.59-1.43-.59-.52 0-1.04.2-1.43.59L10.3 9.45l-7.72 7.72c-.78.78-.78 2.05 0 2.83L4 21.41c.39.39.9.59 1.41.59.51 0 1.02-.2 1.41-.59l7.78-7.78 2.81-2.81c.8-.78.8-2.07 0-2.86zM5.41 20L4 18.59l7.72-7.72 1.47 1.35L5.41 20z\"/>\n",
              "  </svg>\n",
              "      </button>\n",
              "      \n",
              "  <style>\n",
              "    .colab-df-container {\n",
              "      display:flex;\n",
              "      flex-wrap:wrap;\n",
              "      gap: 12px;\n",
              "    }\n",
              "\n",
              "    .colab-df-convert {\n",
              "      background-color: #E8F0FE;\n",
              "      border: none;\n",
              "      border-radius: 50%;\n",
              "      cursor: pointer;\n",
              "      display: none;\n",
              "      fill: #1967D2;\n",
              "      height: 32px;\n",
              "      padding: 0 0 0 0;\n",
              "      width: 32px;\n",
              "    }\n",
              "\n",
              "    .colab-df-convert:hover {\n",
              "      background-color: #E2EBFA;\n",
              "      box-shadow: 0px 1px 2px rgba(60, 64, 67, 0.3), 0px 1px 3px 1px rgba(60, 64, 67, 0.15);\n",
              "      fill: #174EA6;\n",
              "    }\n",
              "\n",
              "    [theme=dark] .colab-df-convert {\n",
              "      background-color: #3B4455;\n",
              "      fill: #D2E3FC;\n",
              "    }\n",
              "\n",
              "    [theme=dark] .colab-df-convert:hover {\n",
              "      background-color: #434B5C;\n",
              "      box-shadow: 0px 1px 3px 1px rgba(0, 0, 0, 0.15);\n",
              "      filter: drop-shadow(0px 1px 2px rgba(0, 0, 0, 0.3));\n",
              "      fill: #FFFFFF;\n",
              "    }\n",
              "  </style>\n",
              "\n",
              "      <script>\n",
              "        const buttonEl =\n",
              "          document.querySelector('#df-eef836dd-e834-4720-b1d6-a1d1c867384e button.colab-df-convert');\n",
              "        buttonEl.style.display =\n",
              "          google.colab.kernel.accessAllowed ? 'block' : 'none';\n",
              "\n",
              "        async function convertToInteractive(key) {\n",
              "          const element = document.querySelector('#df-eef836dd-e834-4720-b1d6-a1d1c867384e');\n",
              "          const dataTable =\n",
              "            await google.colab.kernel.invokeFunction('convertToInteractive',\n",
              "                                                     [key], {});\n",
              "          if (!dataTable) return;\n",
              "\n",
              "          const docLinkHtml = 'Like what you see? Visit the ' +\n",
              "            '<a target=\"_blank\" href=https://colab.research.google.com/notebooks/data_table.ipynb>data table notebook</a>'\n",
              "            + ' to learn more about interactive tables.';\n",
              "          element.innerHTML = '';\n",
              "          dataTable['output_type'] = 'display_data';\n",
              "          await google.colab.output.renderOutput(dataTable, element);\n",
              "          const docLink = document.createElement('div');\n",
              "          docLink.innerHTML = docLinkHtml;\n",
              "          element.appendChild(docLink);\n",
              "        }\n",
              "      </script>\n",
              "    </div>\n",
              "  </div>\n",
              "  "
            ]
          },
          "metadata": {},
          "execution_count": 6
        }
      ]
    },
    {
      "cell_type": "code",
      "source": [
        "#recuperation du text \n",
        "x=df['text'].values\n",
        "\n",
        "y= df[\"category\"].values "
      ],
      "metadata": {
        "id": "Tw8XIeE4Vu9m"
      },
      "execution_count": null,
      "outputs": []
    },
    {
      "cell_type": "code",
      "source": [
        "#creation de tensor \n",
        "dataset=tf.data.Dataset.from_tensor_slices((x,y))"
      ],
      "metadata": {
        "id": "aPl7a88CWymK"
      },
      "execution_count": null,
      "outputs": []
    },
    {
      "cell_type": "code",
      "source": [
        "for i, r in dataset.take(2):\n",
        "  print(r.numpy())\n",
        "  print(i.numpy())\n"
      ],
      "metadata": {
        "colab": {
          "base_uri": "https://localhost:8080/"
        },
        "id": "RDkhj4SwYNEE",
        "outputId": "b7a091e0-45e1-48d3-992f-5467d8e66de7"
      },
      "execution_count": null,
      "outputs": [
        {
          "output_type": "stream",
          "name": "stdout",
          "text": [
            "b'tech'\n",
            "b'tv future in the hands of viewers with home theatre systems  plasma high-definition tvs  and digital video recorders moving into the living room  the way people watch tv will be radically different in five years  time.  that is according to an expert panel which gathered at the annual consumer electronics show in las vegas to discuss how these new technologies will impact one of our favourite pastimes. with the us leading the trend  programmes and other content will be delivered to viewers via home networks  through cable  satellite  telecoms companies  and broadband service providers to front rooms and portable devices.  one of the most talked-about technologies of ces has been digital and personal video recorders (dvr and pvr). these set-top boxes  like the us s tivo and the uk s sky+ system  allow people to record  store  play  pause and forward wind tv programmes when they want.  essentially  the technology allows for much more personalised tv. they are also being built-in to high-definition tv sets  which are big business in japan and the us  but slower to take off in europe because of the lack of high-definition programming. not only can people forward wind through adverts  they can also forget about abiding by network and channel schedules  putting together their own a-la-carte entertainment. but some us networks and cable and satellite companies are worried about what it means for them in terms of advertising revenues as well as  brand identity  and viewer loyalty to channels. although the us leads in this technology at the moment  it is also a concern that is being raised in europe  particularly with the growing uptake of services like sky+.  what happens here today  we will see in nine months to a years  time in the uk   adam hume  the bbc broadcast s futurologist told the bbc news website. for the likes of the bbc  there are no issues of lost advertising revenue yet. it is a more pressing issue at the moment for commercial uk broadcasters  but brand loyalty is important for everyone.  we will be talking more about content brands rather than network brands   said tim hanlon  from brand communications firm starcom mediavest.  the reality is that with broadband connections  anybody can be the producer of content.  he added:  the challenge now is that it is hard to promote a programme with so much choice.   what this means  said stacey jolna  senior vice president of tv guide tv group  is that the way people find the content they want to watch has to be simplified for tv viewers. it means that networks  in us terms  or channels could take a leaf out of google s book and be the search engine of the future  instead of the scheduler to help people find what they want to watch. this kind of channel model might work for the younger ipod generation which is used to taking control of their gadgets and what they play on them. but it might not suit everyone  the panel recognised. older generations are more comfortable with familiar schedules and channel brands because they know what they are getting. they perhaps do not want so much of the choice put into their hands  mr hanlon suggested.  on the other end  you have the kids just out of diapers who are pushing buttons already - everything is possible and available to them   said mr hanlon.  ultimately  the consumer will tell the market they want.   of the 50 000 new gadgets and technologies being showcased at ces  many of them are about enhancing the tv-watching experience. high-definition tv sets are everywhere and many new models of lcd (liquid crystal display) tvs have been launched with dvr capability built into them  instead of being external boxes. one such example launched at the show is humax s 26-inch lcd tv with an 80-hour tivo dvr and dvd recorder. one of the us s biggest satellite tv companies  directtv  has even launched its own branded dvr at the show with 100-hours of recording capability  instant replay  and a search function. the set can pause and rewind tv for up to 90 hours. and microsoft chief bill gates announced in his pre-show keynote speech a partnership with tivo  called tivotogo  which means people can play recorded programmes on windows pcs and mobile devices. all these reflect the increasing trend of freeing up multimedia so that people can watch what they want  when they want.'\n",
            "b'business'\n",
            "b'worldcom boss  left books alone  former worldcom boss bernie ebbers  who is accused of overseeing an $11bn (\\xc2\\xa35.8bn) fraud  never made accounting decisions  a witness has told jurors.  david myers made the comments under questioning by defence lawyers who have been arguing that mr ebbers was not responsible for worldcom s problems. the phone company collapsed in 2002 and prosecutors claim that losses were hidden to protect the firm s shares. mr myers has already pleaded guilty to fraud and is assisting prosecutors.  on monday  defence lawyer reid weingarten tried to distance his client from the allegations. during cross examination  he asked mr myers if he ever knew mr ebbers  make an accounting decision  .  not that i am aware of   mr myers replied.  did you ever know mr ebbers to make an accounting entry into worldcom books   mr weingarten pressed.  no   replied the witness. mr myers has admitted that he ordered false accounting entries at the request of former worldcom chief financial officer scott sullivan. defence lawyers have been trying to paint mr sullivan  who has admitted fraud and will testify later in the trial  as the mastermind behind worldcom s accounting house of cards.  mr ebbers  team  meanwhile  are looking to portray him as an affable boss  who by his own admission is more pe graduate than economist. whatever his abilities  mr ebbers transformed worldcom from a relative unknown into a $160bn telecoms giant and investor darling of the late 1990s. worldcom s problems mounted  however  as competition increased and the telecoms boom petered out. when the firm finally collapsed  shareholders lost about $180bn and 20 000 workers lost their jobs. mr ebbers  trial is expected to last two months and if found guilty the former ceo faces a substantial jail sentence. he has firmly declared his innocence.'\n"
          ]
        }
      ]
    },
    {
      "cell_type": "code",
      "source": [
        "#labelization of y and vectorize x\n",
        "from tensorflow.keras.layers import TextVectorization \n",
        "#vectorize x \n",
        "vectorize_layer=TextVectorization(\n",
        "    max_tokens=10000,\n",
        "    #limit the number of words in a review \n",
        "    output_sequence_length=200\n",
        "    \n",
        "\n",
        ")\n",
        "\n"
      ],
      "metadata": {
        "id": "MnihrTdVWNl8"
      },
      "execution_count": null,
      "outputs": []
    },
    {
      "cell_type": "code",
      "source": [
        "text_ds=dataset.map(lambda x,y:x)\n",
        "for i in text_ds.take(1):\n",
        "  print(i.numpy().decode('utf-8'))\n"
      ],
      "metadata": {
        "colab": {
          "base_uri": "https://localhost:8080/"
        },
        "id": "eQRIKo0xaDs_",
        "outputId": "403e3549-e8d3-4160-8285-0043bed0c7cc"
      },
      "execution_count": null,
      "outputs": [
        {
          "output_type": "stream",
          "name": "stdout",
          "text": [
            "tv future in the hands of viewers with home theatre systems  plasma high-definition tvs  and digital video recorders moving into the living room  the way people watch tv will be radically different in five years  time.  that is according to an expert panel which gathered at the annual consumer electronics show in las vegas to discuss how these new technologies will impact one of our favourite pastimes. with the us leading the trend  programmes and other content will be delivered to viewers via home networks  through cable  satellite  telecoms companies  and broadband service providers to front rooms and portable devices.  one of the most talked-about technologies of ces has been digital and personal video recorders (dvr and pvr). these set-top boxes  like the us s tivo and the uk s sky+ system  allow people to record  store  play  pause and forward wind tv programmes when they want.  essentially  the technology allows for much more personalised tv. they are also being built-in to high-definition tv sets  which are big business in japan and the us  but slower to take off in europe because of the lack of high-definition programming. not only can people forward wind through adverts  they can also forget about abiding by network and channel schedules  putting together their own a-la-carte entertainment. but some us networks and cable and satellite companies are worried about what it means for them in terms of advertising revenues as well as  brand identity  and viewer loyalty to channels. although the us leads in this technology at the moment  it is also a concern that is being raised in europe  particularly with the growing uptake of services like sky+.  what happens here today  we will see in nine months to a years  time in the uk   adam hume  the bbc broadcast s futurologist told the bbc news website. for the likes of the bbc  there are no issues of lost advertising revenue yet. it is a more pressing issue at the moment for commercial uk broadcasters  but brand loyalty is important for everyone.  we will be talking more about content brands rather than network brands   said tim hanlon  from brand communications firm starcom mediavest.  the reality is that with broadband connections  anybody can be the producer of content.  he added:  the challenge now is that it is hard to promote a programme with so much choice.   what this means  said stacey jolna  senior vice president of tv guide tv group  is that the way people find the content they want to watch has to be simplified for tv viewers. it means that networks  in us terms  or channels could take a leaf out of google s book and be the search engine of the future  instead of the scheduler to help people find what they want to watch. this kind of channel model might work for the younger ipod generation which is used to taking control of their gadgets and what they play on them. but it might not suit everyone  the panel recognised. older generations are more comfortable with familiar schedules and channel brands because they know what they are getting. they perhaps do not want so much of the choice put into their hands  mr hanlon suggested.  on the other end  you have the kids just out of diapers who are pushing buttons already - everything is possible and available to them   said mr hanlon.  ultimately  the consumer will tell the market they want.   of the 50 000 new gadgets and technologies being showcased at ces  many of them are about enhancing the tv-watching experience. high-definition tv sets are everywhere and many new models of lcd (liquid crystal display) tvs have been launched with dvr capability built into them  instead of being external boxes. one such example launched at the show is humax s 26-inch lcd tv with an 80-hour tivo dvr and dvd recorder. one of the us s biggest satellite tv companies  directtv  has even launched its own branded dvr at the show with 100-hours of recording capability  instant replay  and a search function. the set can pause and rewind tv for up to 90 hours. and microsoft chief bill gates announced in his pre-show keynote speech a partnership with tivo  called tivotogo  which means people can play recorded programmes on windows pcs and mobile devices. all these reflect the increasing trend of freeing up multimedia so that people can watch what they want  when they want.\n"
          ]
        }
      ]
    },
    {
      "cell_type": "code",
      "source": [
        "vectorize_layer.adapt(text_ds)"
      ],
      "metadata": {
        "id": "KrK7-zR7aX5G"
      },
      "execution_count": null,
      "outputs": []
    },
    {
      "cell_type": "code",
      "source": [
        "len(vectorize_layer.get_vocabulary())"
      ],
      "metadata": {
        "colab": {
          "base_uri": "https://localhost:8080/"
        },
        "id": "Il0Xn4RNajkd",
        "outputId": "bdddfb04-c9e3-4a5d-cee7-057efa83abbd"
      },
      "execution_count": null,
      "outputs": [
        {
          "output_type": "execute_result",
          "data": {
            "text/plain": [
              "10000"
            ]
          },
          "metadata": {},
          "execution_count": 13
        }
      ]
    },
    {
      "cell_type": "code",
      "source": [
        "def vectorize_text(text, label):\n",
        "  text=tf.expand_dims(text,-1)\n",
        "  return vectorize_layer(text),tf.reshape(label,(-1,1))\n",
        "\n",
        "dataset=dataset.map(vectorize_text)"
      ],
      "metadata": {
        "id": "HW3IfQ9sasy2"
      },
      "execution_count": null,
      "outputs": []
    },
    {
      "cell_type": "code",
      "source": [
        "for text, label in dataset.take(5):\n",
        "  print(text)\n",
        "  print(label)"
      ],
      "metadata": {
        "id": "MCeLeslEbDCR",
        "colab": {
          "base_uri": "https://localhost:8080/"
        },
        "outputId": "9959b492-6ed2-4d2c-fa4a-e9e2c96877b9"
      },
      "execution_count": null,
      "outputs": [
        {
          "output_type": "stream",
          "name": "stdout",
          "text": [
            "tf.Tensor(\n",
            "[[ 178  244    7    2 1288    4 1259   18  125 1170  810 5334 1317 4292\n",
            "     5  220  264 4169 1473   76    2 1392 1718    2  116   46 1003  178\n",
            "    24   17 6702  406    7  185   80   72   11   10  215    3   35 3186\n",
            "  1405   36 2571   22    2  658  497 1343  147    7 3002 3122    3 1817\n",
            "   126  173   48  953   24  827   53    4  124 1013    1   18    2   49\n",
            "   740    2 1620 1101    5   71  490   24   17 2054    3 1259  841  125\n",
            "   573  168 1556 2153 1696  212    5  411  197 2783    3  972 5300    5\n",
            "  1141  682   53    4    2  113    1  953    4 2634   20   39  220    5\n",
            "   426  264 4169 9605    5 5941  173 4463 3490   97    2   49    8 5868\n",
            "     5    2   78    8 1537  218  529   46    3  221 1485  153 4687    5\n",
            "   578 5509  178 1101   65   30  157 6873    2  160 2180    9  139   41\n",
            "  9251  178   30   26   44   89 4785    3 1317  178 2032   36   26  227\n",
            "   237    7  493    5    2   49   25 3060    3  114  155    7  224  101\n",
            "     4    2 1269    4 1317 4484   29   85   55   46  578 5509  168 3210\n",
            "    30   55   44 2747]], shape=(1, 200), dtype=int64)\n",
            "tf.Tensor([[b'tech']], shape=(1, 1), dtype=string)\n",
            "tf.Tensor(\n",
            "[[1659  713  371 1692 1559  204 1659  713 6146 1708   45   10  733    4\n",
            "  7223   35 4281    1  877  361   94 2233 1346    6 4621   20   90 5655\n",
            "   407 6337   94    2  882  171 4325   23  942 1929   45   21   39 3978\n",
            "    11   33 1708   15   29 1488    9 1659    8  455    2  245  123 4401\n",
            "     7  710    5 2285  679   11 1898   43 3089    3 1266    2  142    8\n",
            "   362   33 6337   20  186 2842 1222    3  877    5   10    1 2285   13\n",
            "   525  942 1626 5077 9960 1311    3 3190   31 3602   28    2 1835  196\n",
            "  1307    1   16  532   33 6337   60   16  480 1525   33 1708   87   35\n",
            "  2233  276   29   11   27  416 1734    4   33 6337 3879  164   61  480\n",
            "   258   33 1708    3   87   35 2233 2050   76 1659 1692   33 9960 7190\n",
            "    86 3879    2 4621   33 6337   20  831   11   16 2734 2209 2233 4235\n",
            "    22    2 3412    4  204 1659  198  389 1646 1865 1369  942 1929   21\n",
            "    39  564    3 9275   33 1369   45   20  831  877    5   24    1  326\n",
            "     7    2  643   19    2    1  460 1659    8 2233  357    4  744   33\n",
            "  1708  252  803   26]], shape=(1, 200), dtype=int64)\n",
            "tf.Tensor([[b'business']], shape=(1, 1), dtype=string)\n",
            "tf.Tensor(\n",
            "[[5035 7043    4 3933 6851 1315  150   30   24   29   17 5298   76  317\n",
            "     6  512    9  950 3933   99    2  236  200  498  553 1016 1382    3\n",
            "  2538 5199   32    5 3500 1529  697    7    2  856   26  133   75  116\n",
            "   302   28  131    3    2  107  775 5035  713  394 3991   90  108  263\n",
            "  1315   22    2  889   50   26  133    6  295    4    1   52  950 3933\n",
            "    29  509   31 2199  904 7602  336  114  128   13   10  131    3  114\n",
            "     6  227  227 6851 3933   45   20   37 5092 2513  455   37   35 1956\n",
            "    13   31 2513  185  508  451    5   10  182    3   17   57    9  241\n",
            "   110  193 1315    5 5297   26 1079    3  588    2  506    4  498  545\n",
            "  1796 1394    7 2151 3933   60   16 6473    3  239    3    2    1   93\n",
            "    60   16  336  239  474    3  545 3991  748   16   38  262  155  346\n",
            "     7    2 2446   22  509 1724   27  202  677   16   62   87    2  925\n",
            "   161  553    5  545   23   89  697    7    2  559   14 3991   27  148\n",
            "   135   38 3329  128    3 1280    3    6  720    7    2  109 1049  177\n",
            "    30   55   87  149]], shape=(1, 200), dtype=int64)\n",
            "tf.Tensor([[b'sport']], shape=(1, 1), dtype=string)\n",
            "tf.Tensor(\n",
            "[[   1  405 1151    7 1729  324 1093  283 1151  269  405    6 1997    3\n",
            "     1 2600  553 1162    1    7    2 1729  324  248  855    2   93 9843\n",
            "     2 3254    4    2 1344   10    6  730    1    9    1    1   45  560\n",
            "  9104    7    2  162  855  685  283 5717  615   45 3003   57    1   13\n",
            "   539   24 1426    3  704 4005    3  630 5386  752  269    7  309  703\n",
            "    43 1937   22  125    3 8296    5  523   24  153  961    3    1    2\n",
            "    85   71    1  283    7    2 1344   26    1  269   45  410 5789    3\n",
            "     6    1 1344   13  417   30   24  630  553   53 1162 8542   60   30\n",
            "   140   40 3536   82  768 6167    8  252   22 6419 1173    6  111    4\n",
            "  1093 1715  405  619  302  136   82 1554 1522   13    2  717    4    1\n",
            "   309    1 2122 1661    1  681 1426    3 4587 4392 3664  144    3 4306\n",
            "  4221  405 3965  324    1    1 3201  630    1  105 3497 3216   43 1937\n",
            "    82 2187  269 1093    1 2790 3029  784 7508   26  302   22  784 3689\n",
            "  1461    5 6713 1024  183 3650 2369 1661 4897  423  186 2179    2  553\n",
            "    69  283    7    2]], shape=(1, 200), dtype=int64)\n",
            "tf.Tensor([[b'sport']], shape=(1, 1), dtype=string)\n",
            "tf.Tensor(\n",
            "[[3890    8 5030 5938  712  267 3890    8 5030    2 1088    1 2241 1402\n",
            "  1223 8807 6517 7204    5 5374 3066   20  947 1468    3  111   53    7\n",
            "     2   49  712  267  867   12  247    1 9930    7  717 2365  181  215\n",
            "     3 1740 2346    2 2241 1785    2 4701 2695   19   30  424    3 2729\n",
            "   155  110  378    1  474  224   12 3003   64  151    8  111   53  299\n",
            "  8256   76  248  228    1    1    1    1   15    7  162  329    1    1\n",
            "     1   57    2  159  185   15 4425    1    2 9234 2475 1402 2028 4074\n",
            "     5 3356  818  651   18    2    1 3890    8 5030  712  267 3125 3560\n",
            "     2    1  761    9    6  323  688    7    2   49   54    2  110  401\n",
            "     7    2  356    4    2 2903 5855    2 2241 5982  560   42  592 6301\n",
            "  3890    8 7396   36  247    1    1   13   42  761  717    5    1    1\n",
            "     7  557    6 4321    4    2 3844   95 1402 2254    1    5    2    1\n",
            "  2606 3890    8 7396   15 1982   23 5099  209 1741    1    1 2667    3\n",
            "  1409    2  261 2241   36    1 8807 7204    5 3066   18 1807    1  950\n",
            "  6062    5 8017    1]], shape=(1, 200), dtype=int64)\n",
            "tf.Tensor([[b'entertainment']], shape=(1, 1), dtype=string)\n"
          ]
        }
      ]
    },
    {
      "cell_type": "code",
      "source": [
        "label.shape"
      ],
      "metadata": {
        "colab": {
          "base_uri": "https://localhost:8080/"
        },
        "id": "DxA3R1g6-Qdk",
        "outputId": "d0cf3c05-4648-467d-9738-71aea410d7af"
      },
      "execution_count": null,
      "outputs": [
        {
          "output_type": "execute_result",
          "data": {
            "text/plain": [
              "TensorShape([1, 1])"
            ]
          },
          "metadata": {},
          "execution_count": 16
        }
      ]
    },
    {
      "cell_type": "code",
      "source": [
        "#labelize y \n",
        "label_vect_layer=TextVectorization( max_tokens=7)\n",
        "\n",
        "labels= dataset.map(lambda x,y:y)\n",
        "label_vect_layer.adapt(labels)\n",
        "\n",
        "\n",
        "def vectorize_label(text, label):\n",
        "  return text, label_vect_layer(label)[0]\n",
        "dataset= dataset.map(vectorize_label)\n",
        "  \n",
        "\n"
      ],
      "metadata": {
        "id": "d8EXTtQrbWHk"
      },
      "execution_count": null,
      "outputs": []
    },
    {
      "cell_type": "code",
      "source": [
        "\n",
        "for text, labels in dataset.take(5):\n",
        "  print(labels)"
      ],
      "metadata": {
        "colab": {
          "base_uri": "https://localhost:8080/"
        },
        "id": "tGrvSMsieOQU",
        "outputId": "e3da63dc-77a8-40eb-9f5c-f1a7cc28adde"
      },
      "execution_count": null,
      "outputs": [
        {
          "output_type": "stream",
          "name": "stdout",
          "text": [
            "tf.Tensor([5], shape=(1,), dtype=int64)\n",
            "tf.Tensor([3], shape=(1,), dtype=int64)\n",
            "tf.Tensor([2], shape=(1,), dtype=int64)\n",
            "tf.Tensor([2], shape=(1,), dtype=int64)\n",
            "tf.Tensor([6], shape=(1,), dtype=int64)\n"
          ]
        }
      ]
    },
    {
      "cell_type": "code",
      "source": [
        "#creation du model \n",
        "inputs=tf.keras.Input(shape=(None,),dtype=\"int64\")\n",
        "\n",
        "#couche cachée embedding\n",
        "x=tf.keras.layers.Embedding(10000, 500)(inputs)\n",
        "\n",
        "#couche LSTM\n",
        "x=tf.keras.layers.Bidirectional(tf.keras.layers.LSTM(128))(x)\n",
        "\n",
        "#couche classification \n",
        "x=tf.keras.layers.Dense(64,activation=\"relu\" )(x)\n",
        "\n",
        "#couche classification \n",
        "predictions=tf.keras.layers.Dense(7, activation=\"sigmoid\",name=\"predictions\")(x)\n",
        "\n",
        "model=tf.keras.Model(inputs,outputs= predictions)\n",
        "model.summary()"
      ],
      "metadata": {
        "colab": {
          "base_uri": "https://localhost:8080/"
        },
        "id": "SAROUmQhfBRC",
        "outputId": "3c39ab2d-e5f1-4bef-ab90-962fc52da696"
      },
      "execution_count": null,
      "outputs": [
        {
          "output_type": "stream",
          "name": "stdout",
          "text": [
            "Model: \"model\"\n",
            "_________________________________________________________________\n",
            " Layer (type)                Output Shape              Param #   \n",
            "=================================================================\n",
            " input_1 (InputLayer)        [(None, None)]            0         \n",
            "                                                                 \n",
            " embedding (Embedding)       (None, None, 500)         5000000   \n",
            "                                                                 \n",
            " bidirectional (Bidirectiona  (None, 256)              644096    \n",
            " l)                                                              \n",
            "                                                                 \n",
            " dense (Dense)               (None, 64)                16448     \n",
            "                                                                 \n",
            " predictions (Dense)         (None, 7)                 455       \n",
            "                                                                 \n",
            "=================================================================\n",
            "Total params: 5,660,999\n",
            "Trainable params: 5,660,999\n",
            "Non-trainable params: 0\n",
            "_________________________________________________________________\n"
          ]
        }
      ]
    },
    {
      "cell_type": "code",
      "source": [
        "model.compile(loss='sparse_categorical_crossentropy', optimizer='adam', metrics=[\"accuracy\"])"
      ],
      "metadata": {
        "id": "9nkW1Lq9iKHt"
      },
      "execution_count": null,
      "outputs": []
    },
    {
      "cell_type": "code",
      "source": [
        "history= model.fit(dataset,epochs=5)"
      ],
      "metadata": {
        "colab": {
          "base_uri": "https://localhost:8080/"
        },
        "id": "XdPlQNNnik8S",
        "outputId": "8cb0897f-40bf-4e3a-bd19-6e720e5e9575"
      },
      "execution_count": null,
      "outputs": [
        {
          "output_type": "stream",
          "name": "stdout",
          "text": [
            "Epoch 1/5\n",
            "2225/2225 [==============================] - 61s 24ms/step - loss: 0.7440 - accuracy: 0.7272\n",
            "Epoch 2/5\n",
            "2225/2225 [==============================] - 54s 24ms/step - loss: 0.1486 - accuracy: 0.9564\n",
            "Epoch 3/5\n",
            "2225/2225 [==============================] - 53s 24ms/step - loss: 0.0233 - accuracy: 0.9942\n",
            "Epoch 4/5\n",
            "2225/2225 [==============================] - 54s 24ms/step - loss: 0.0052 - accuracy: 0.9973\n",
            "Epoch 5/5\n",
            "2225/2225 [==============================] - 53s 24ms/step - loss: 6.9623e-05 - accuracy: 1.0000\n"
          ]
        }
      ]
    },
    {
      "cell_type": "code",
      "source": [
        "model.evaluate(dataset)"
      ],
      "metadata": {
        "id": "uAKpYvkikJQv",
        "colab": {
          "base_uri": "https://localhost:8080/"
        },
        "outputId": "02e5f8dd-ccf9-42fb-e96a-8f7f2367a0e6"
      },
      "execution_count": null,
      "outputs": [
        {
          "output_type": "stream",
          "name": "stdout",
          "text": [
            "2225/2225 [==============================] - 36s 16ms/step - loss: 1.4495e-05 - accuracy: 1.0000\n"
          ]
        },
        {
          "output_type": "execute_result",
          "data": {
            "text/plain": [
              "[1.449480805604253e-05, 1.0]"
            ]
          },
          "metadata": {},
          "execution_count": 22
        }
      ]
    }
  ]
}